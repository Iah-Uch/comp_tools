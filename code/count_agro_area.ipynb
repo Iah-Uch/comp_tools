{
  "nbformat": 4,
  "nbformat_minor": 0,
  "metadata": {
    "colab": {
      "provenance": []
    },
    "kernelspec": {
      "name": "python3",
      "display_name": "Python 3"
    },
    "language_info": {
      "name": "python"
    }
  },
  "cells": [
    {
      "cell_type": "markdown",
      "source": [],
      "metadata": {
        "id": "TIUN7PxXv-UO"
      }
    },
    {
      "cell_type": "code",
      "source": [
        "!pip install rasterio gdown tqdm"
      ],
      "metadata": {
        "id": "RCgLb0Vs4zZJ"
      },
      "execution_count": null,
      "outputs": []
    },
    {
      "cell_type": "code",
      "execution_count": 2,
      "metadata": {
        "colab": {
          "base_uri": "https://localhost:8080/"
        },
        "id": "MkdsLWTbv4Ez",
        "outputId": "e509cd8b-3afe-4a67-9135-112795e29d61"
      },
      "outputs": [
        {
          "output_type": "stream",
          "name": "stderr",
          "text": [
            "Downloading...\n",
            "From (original): https://drive.google.com/uc?id=1BrtGByxXu5xqBGOvSBmPWkb_YGZagHav\n",
            "From (redirected): https://drive.google.com/uc?id=1BrtGByxXu5xqBGOvSBmPWkb_YGZagHav&confirm=t&uuid=a9da2fb3-7db3-445b-82f9-eeaa6d274ac4\n",
            "To: /content/image.tif\n",
            "100%|██████████| 1.07G/1.07G [00:10<00:00, 100MB/s]\n",
            "Processando blocos: 100%|██████████| 94240/94240 [01:28<00:00, 1067.97it/s]"
          ]
        },
        {
          "output_type": "stream",
          "name": "stdout",
          "text": [
            "\n",
            "Resultados:\n",
            "1. Quantidade total de pixels: 24599016701\n",
            "2. Quantidade de pixels sem dados (código 0): 14814537822\n",
            "3. Quantidade de pixels de soja (código 39): 468443516\n",
            "4. Quantidade de pixels de pastagem (código 15): 1895700288\n",
            "\n",
            "Cálculos de área (considerando proporção em relação à área do Brasil):\n",
            "Área de plantio de soja: 40770243.20 hectares, Pixels: 468443516\n",
            "Área de pastagem: 164989287.16 hectares, Pixels: 1895700288\n"
          ]
        },
        {
          "output_type": "stream",
          "name": "stderr",
          "text": [
            "\n"
          ]
        }
      ],
      "source": [
        "import rasterio\n",
        "import numpy as np\n",
        "import gdown\n",
        "from tqdm import tqdm\n",
        "\n",
        "# URL do arquivo\n",
        "url = \"https://drive.google.com/uc?id=1BrtGByxXu5xqBGOvSBmPWkb_YGZagHav\"\n",
        "output = \"image.tif\"\n",
        "gdown.download(url, output, quiet=False)\n",
        "\n",
        "with rasterio.open(output) as src:\n",
        "    # Primeiro, contamos o número total de blocos para o progresso:\n",
        "    total_blocks = sum(1 for _ in src.block_windows(1))\n",
        "\n",
        "    # Contadores\n",
        "    total_pixels = 0\n",
        "    no_data_pixels = 0\n",
        "    soja_pixels = 0\n",
        "    pastagem_pixels = 0\n",
        "\n",
        "    # Itera sobre os blocos com barra de progresso\n",
        "    for ji, window in tqdm(src.block_windows(1), total=total_blocks, desc=\"Processando blocos\"):\n",
        "        # Lê somente o bloco atual\n",
        "        data = src.read(1, window=window)\n",
        "\n",
        "        # Atualiza contadores\n",
        "        total_pixels += data.size\n",
        "        no_data_pixels += np.count_nonzero(data == 0)\n",
        "        soja_pixels += np.count_nonzero(data == 39)\n",
        "        pastagem_pixels += np.count_nonzero(data == 15)\n",
        "\n",
        "# Pixels válidos (sem dados excluídos)\n",
        "valid_pixels = total_pixels - no_data_pixels\n",
        "\n",
        "# Evitar divisão por zero caso não haja pixels válidos\n",
        "if valid_pixels > 0:\n",
        "    perc_soja = (soja_pixels / valid_pixels) * 100\n",
        "    perc_pastagem = (pastagem_pixels / valid_pixels) * 100\n",
        "else:\n",
        "    perc_soja = 0\n",
        "    perc_pastagem = 0\n",
        "\n",
        "# Área do Brasil em hectares (IBGE)\n",
        "area_brasil_ha = 851576700\n",
        "\n",
        "# Áreas correspondentes\n",
        "area_soja_ha = (perc_soja / 100) * area_brasil_ha\n",
        "area_pastagem_ha = (perc_pastagem / 100) * area_brasil_ha\n",
        "\n",
        "# Impressão dos resultados\n",
        "print(\"\\nResultados:\")\n",
        "print(f\"1. Quantidade total de pixels: {total_pixels}\")\n",
        "print(f\"2. Quantidade de pixels sem dados (código 0): {no_data_pixels}\")\n",
        "print(f\"3. Quantidade de pixels de soja (código 39): {soja_pixels}\")\n",
        "print(f\"4. Quantidade de pixels de pastagem (código 15): {pastagem_pixels}\")\n",
        "\n",
        "print(\"\\nCálculos de área (considerando proporção em relação à área do Brasil):\")\n",
        "print(f\"Área de plantio de soja: {area_soja_ha:.2f} hectares, Pixels: {soja_pixels}\")\n",
        "print(f\"Área de pastagem: {area_pastagem_ha:.2f} hectares, Pixels: {pastagem_pixels}\")"
      ]
    }
  ]
}